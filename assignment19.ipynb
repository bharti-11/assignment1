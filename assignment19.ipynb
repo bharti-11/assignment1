{
 "cells": [
  {
   "cell_type": "markdown",
   "metadata": {},
   "source": [
    "# Q.1 - Create a numpy array with 10 elements of the shape(10,1) using np.random and find out the mean of the elements using basic numpy functions."
   ]
  },
  {
   "cell_type": "markdown",
   "metadata": {},
   "source": [
    "# sol."
   ]
  },
  {
   "cell_type": "code",
   "execution_count": 5,
   "metadata": {},
   "outputs": [
    {
     "name": "stdout",
     "output_type": "stream",
     "text": [
      "0.33313576669809974\n"
     ]
    }
   ],
   "source": [
    "import numpy as np\n",
    "array=np.random.rand(10,1)\n",
    "print(array.mean())"
   ]
  },
  {
   "cell_type": "markdown",
   "metadata": {},
   "source": [
    "# Q.2 - Create a numpy array with 20 elements of the shape(20,1) using np.random find the variance and standard deviation of the elements."
   ]
  },
  {
   "cell_type": "markdown",
   "metadata": {},
   "source": [
    "# sol."
   ]
  },
  {
   "cell_type": "code",
   "execution_count": 6,
   "metadata": {},
   "outputs": [
    {
     "name": "stdout",
     "output_type": "stream",
     "text": [
      "0.059369215961760646\n",
      "0.24365798973512165\n"
     ]
    }
   ],
   "source": [
    "import numpy as np\n",
    "array=np.random.rand(20,1) \n",
    "print(array.var())\n",
    "print(array.std())"
   ]
  },
  {
   "cell_type": "markdown",
   "metadata": {},
   "source": [
    "# Q.3 - Create a numpy array A of shape(10,20) and B of shape (20,25) using np.random. Print the matrix which is the matrix multiplication of A and B. The shape of the new matrix should be (10,25). Using basic numpy math functions only find the sum of all the elements of the new matrix."
   ]
  },
  {
   "cell_type": "markdown",
   "metadata": {},
   "source": [
    "# sol."
   ]
  },
  {
   "cell_type": "code",
   "execution_count": 10,
   "metadata": {},
   "outputs": [
    {
     "name": "stdout",
     "output_type": "stream",
     "text": [
      "multiplication of a and b [[5.54521198 5.05760763 4.78493902 5.29405268 4.4881234  4.04212443\n",
      "  4.47840473 4.62763102 4.76694755 5.67918253 5.69538168 5.33002456\n",
      "  5.37314576 4.17081231 4.56411424 4.47201129 4.00443375 4.61193971\n",
      "  5.15379816 4.33193288 5.11266303 4.96326846 4.1762297  3.76379027\n",
      "  5.65928679]\n",
      " [4.92383579 3.83850858 4.73314757 4.39568972 3.1291225  3.07834826\n",
      "  4.36524194 3.1260451  4.21147061 4.18312149 4.75032875 4.05420994\n",
      "  4.68633476 3.02330705 4.11543926 4.12345227 4.54684326 3.7548129\n",
      "  5.29693388 3.79269004 4.09512013 4.34677854 3.56630092 2.38594039\n",
      "  4.66111528]\n",
      " [5.84510499 4.71630799 5.31075119 5.50729883 4.69267486 4.36682052\n",
      "  4.95054041 4.37007963 5.60722212 5.54987007 5.51084938 4.59407655\n",
      "  5.60365486 5.34108521 4.53444083 5.02310789 5.33785116 4.53953771\n",
      "  6.09971999 4.76999977 4.70023326 5.39913676 4.62288899 3.56589299\n",
      "  5.28694806]\n",
      " [4.98017004 4.54211544 4.87682345 5.14923412 3.53887217 3.94799627\n",
      "  5.46526194 3.65703093 4.4968131  4.97487824 5.3275435  4.29929027\n",
      "  5.3765818  4.20470851 4.35911397 4.1943291  5.19408461 4.63761448\n",
      "  5.8747399  4.51483769 4.40149028 4.806353   3.82116637 3.13415948\n",
      "  5.25502683]\n",
      " [5.11531243 4.66050969 4.22829325 4.27601825 3.33647105 3.36734478\n",
      "  4.03633268 3.5830908  3.57166949 5.11501715 5.20859171 4.2458895\n",
      "  4.54587752 3.42038068 4.20827145 3.7694956  3.90463602 4.37262243\n",
      "  5.46420562 4.03385595 4.15419969 4.04931963 3.67107767 3.22653543\n",
      "  5.7130282 ]\n",
      " [5.71386058 4.94099386 4.7590644  5.25873917 3.4464143  3.5008596\n",
      "  4.61969859 4.24217929 4.16915553 5.77966653 6.34245919 4.58430348\n",
      "  5.51939707 4.14668936 4.60789275 4.40072361 4.46009369 5.10636059\n",
      "  6.19183785 4.98969254 4.41080222 4.65661388 3.94083576 3.67432226\n",
      "  5.22850348]\n",
      " [5.41931185 4.79813213 4.82495181 5.53280281 4.23935941 4.3621095\n",
      "  4.79664755 4.55133501 5.15041735 5.25037251 5.97064322 4.44022945\n",
      "  5.14523345 4.64281031 4.1777999  4.26317054 5.16522588 4.45419457\n",
      "  6.17878609 4.76896252 5.34357496 5.88605335 4.08386448 4.65417677\n",
      "  5.96840145]\n",
      " [6.22569302 5.65079983 5.91958872 5.89375061 4.37863581 4.79788488\n",
      "  5.46980398 4.8088623  5.91088924 5.86576878 6.01569222 5.12151341\n",
      "  6.25287818 5.29712141 5.74416071 5.34523908 5.94243588 4.95194041\n",
      "  7.09626091 5.52391828 5.52919875 5.77167026 5.17139843 4.21722683\n",
      "  6.3515442 ]\n",
      " [6.75864162 5.48353742 6.57797533 6.16288564 4.34345754 5.1444908\n",
      "  5.80603358 5.43549603 6.87976188 6.2740334  6.53856919 5.48190042\n",
      "  6.667285   5.05783954 5.62677366 5.7258685  6.40700197 5.00549216\n",
      "  7.82192282 5.88246728 6.3880005  6.432746   5.50982475 4.28259111\n",
      "  6.73967376]\n",
      " [7.30692301 6.49684629 5.58660669 6.81255822 5.30209125 4.67039611\n",
      "  5.32013836 5.4109501  5.80203045 7.12021208 6.9449607  5.30708478\n",
      "  6.30138055 5.8663151  5.82707382 5.73722023 6.17661847 6.0560884\n",
      "  7.7897544  5.72149295 6.9203377  6.85331449 5.21344305 5.45665117\n",
      "  7.45371274]]\n",
      "sum of c 1251.3876462514033\n"
     ]
    }
   ],
   "source": [
    "import numpy as np\n",
    "a=np.random.rand(10,20)\n",
    "b=np.random.rand(20,25)\n",
    "c=np.matmul(a,b)\n",
    "print(\"multiplication of a and b\",c)\n",
    "print(\"sum of c\",c.sum())"
   ]
  },
  {
   "cell_type": "markdown",
   "metadata": {},
   "source": [
    "# Q.4 - Create a numpy array A of shape(10,1).Using the basic operations of the numpy array generate an array of shape(10,1) such that each element is the following function applied on each element of A. \n",
    "\n"
   ]
  },
  {
   "cell_type": "markdown",
   "metadata": {},
   "source": [
    "# sol."
   ]
  },
  {
   "cell_type": "code",
   "execution_count": 12,
   "metadata": {},
   "outputs": [
    {
     "name": "stdout",
     "output_type": "stream",
     "text": [
      "[[0.86177446]\n",
      " [0.18196462]\n",
      " [0.44416696]\n",
      " [0.00479123]\n",
      " [0.7123548 ]\n",
      " [0.37352743]\n",
      " [0.53636754]\n",
      " [0.31730787]\n",
      " [0.57659162]\n",
      " [0.4682983 ]]\n",
      "[[0.70303126]\n",
      " [0.54536605]\n",
      " [0.60925149]\n",
      " [0.50119781]\n",
      " [0.67092128]\n",
      " [0.59231105]\n",
      " [0.63096701]\n",
      " [0.57866802]\n",
      " [0.64028276]\n",
      " [0.61498091]]\n"
     ]
    }
   ],
   "source": [
    "import numpy as np\n",
    "import math\n",
    "A=np.random.rand(10,1)\n",
    "print(A)\n",
    "def func(x):\n",
    "    return(1/(1+np.exp(-x)))\n",
    "result=np.apply_along_axis(func,0,A)\n",
    "print(result)"
   ]
  },
  {
   "cell_type": "code",
   "execution_count": null,
   "metadata": {},
   "outputs": [],
   "source": []
  }
 ],
 "metadata": {
  "kernelspec": {
   "display_name": "Python 3",
   "language": "python",
   "name": "python3"
  },
  "language_info": {
   "codemirror_mode": {
    "name": "ipython",
    "version": 3
   },
   "file_extension": ".py",
   "mimetype": "text/x-python",
   "name": "python",
   "nbconvert_exporter": "python",
   "pygments_lexer": "ipython3",
   "version": "3.6.2"
  }
 },
 "nbformat": 4,
 "nbformat_minor": 2
}
